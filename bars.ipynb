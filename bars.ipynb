{
 "cells": [
  {
   "cell_type": "markdown",
   "metadata": {},
   "source": [
    "**Learning Sparse Codes with Entropy-Based ELBOs**\n",
    "\n",
    "*Dmytro Velychko, Simon Damm, Asja Fischer, Jörg Lücke*"
   ]
  },
  {
   "cell_type": "markdown",
   "metadata": {},
   "source": [
    "Learning sparse bars dataset.\n",
    "\n",
    "Author: Dmytro Velychko, Carl von Ossietzky University of Oldenburg\n",
    "\n",
    "Email: dmytro.velychko@uni-oldenburg.de"
   ]
  },
  {
   "cell_type": "code",
   "execution_count": 1,
   "metadata": {},
   "outputs": [
    {
     "data": {
      "image/png": "[encoded data removed]",
      "text/plain": [
       "<Figure size 500x200 with 10 Axes>"
      ]
     },
     "metadata": {},
     "output_type": "display_data"
    }
   ],
   "source": [
    "import os\n",
    "from datetime import datetime\n",
    "import random\n",
    "import matplotlib.pyplot as plt\n",
    "import numpy as np\n",
    "import torch\n",
    "from datasets.bars import BarsDataset\n",
    "from models.optimalmanifoldELBO import OptimalManifoldSC, DiagCovarGaussianVariationalParams, FullCovarGaussianVariationalParams, AmortizedGaussianVariationalParams\n",
    "from models.stochasticELBO import StochasticSC\n",
    "from models.analyticELBO import AnalyticELBOSC\n",
    "from utils.training import *\n",
    "from utils.plotting import *\n",
    "%matplotlib inline\n",
    "\n",
    "torch.set_default_dtype(torch.float32)\n",
    "device = torch.device(\"cuda\" if torch.cuda.is_available() else \"cpu\") \n",
    "#device = \"cpu\"\n",
    "\n",
    "\n",
    "if False:\n",
    "    seed = 123456\n",
    "    random.seed(seed)\n",
    "    np.random.seed(seed)\n",
    "    torch.manual_seed(seed)\n",
    "\n",
    "\n",
    "N = 1000\n",
    "H = 2*5  # number of sources\n",
    "D = int(H / 2)**2  # data dimensionality\n",
    "dataset = BarsDataset(N, D, H, latent=\"Laplace\")\n",
    "#H += 2  # additional latent dimensions\n",
    "\n",
    "dataloader = torch.utils.data.DataLoader(dataset, batch_size=1000)\n",
    "\n",
    "likelihood_entropies = []\n",
    "prior_entropies = []\n",
    "proposal_entropies = []\n",
    "def on_compute_entropy(likelihood_entropy, prior_entropy, proposal_entropy):\n",
    "    likelihood_entropies.append(likelihood_entropy.item())\n",
    "    prior_entropies.append(prior_entropy.item())\n",
    "    proposal_entropies.append(proposal_entropy.item())\n",
    "\n",
    "model = OptimalManifoldSC(N, D, H, \n",
    "        variationalparams=FullCovarGaussianVariationalParams(N, D, H), \n",
    "        on_compute_entropy=on_compute_entropy).to(device)\n",
    "\n",
    "path = \"./out/bars/\" + model.__class__.__name__ + \"/\" + datetime.now().strftime('%y.%m.%d-%H:%M:%S') + \"/\"\n",
    "if not os.path.exists(path):\n",
    "    os.makedirs(path)\n",
    "prefix = path\n",
    "\n",
    "plot_training_data(dataset.x[:H])\n",
    "plt.suptitle(\"Training data samples\")\n",
    "plt.show()"
   ]
  },
  {
   "cell_type": "code",
   "execution_count": 2,
   "metadata": {},
   "outputs": [
    {
     "name": "stdout",
     "output_type": "stream",
     "text": [
      "Epoch    0 \t Batch    0 \t ELBO: -55.005585 \tGradient size: 0.124587\n",
      "Epoch    1 \t Batch    0 \t ELBO: -9.450226 \tGradient size: 0.075237\n",
      "Epoch    2 \t Batch    0 \t ELBO: -9.168257 \tGradient size: 0.038725\n",
      "Epoch    3 \t Batch    0 \t ELBO: -9.025075 \tGradient size: 0.030489\n",
      "Epoch    4 \t Batch    0 \t ELBO: -8.952417 \tGradient size: 0.014196\n",
      "Epoch    5 \t Batch    0 \t ELBO: -8.869276 \tGradient size: 0.012596\n",
      "Epoch    6 \t Batch    0 \t ELBO: -8.821123 \tGradient size: 0.010279\n",
      "Epoch    7 \t Batch    0 \t ELBO: -8.797575 \tGradient size: 0.005139\n",
      "Epoch    8 \t Batch    0 \t ELBO: -8.784758 \tGradient size: 0.002718\n",
      "Epoch    9 \t Batch    0 \t ELBO: -8.782334 \tGradient size: 0.002718\n",
      "Epoch   10 \t Batch    0 \t ELBO: -8.782334 \tGradient size: 0.002718\n",
      "Epoch   11 \t Batch    0 \t ELBO: -8.782334 \tGradient size: 0.002718\n"
     ]
    }
   ],
   "source": [
    "\n",
    "def save_plots(model, epoch, elbos=None):\n",
    "    if epoch % 10 == 0:\n",
    "        plot(elbos, filename=prefix + \"elbos.pdf\")\n",
    "        plot_Ws(model, filename=prefix + \"Ws-{:05}.pdf\".format(epoch))\n",
    "    \n",
    "    if epoch % 10 == 0:\n",
    "        indexes = range(10)\n",
    "        x = dataset.x[indexes]\n",
    "        plot_samples(model, x, indexes, filename=prefix + \"X-{:05}.pdf\".format(epoch))\n",
    "\n",
    "save_plots(model, epoch=0)\n",
    "\n",
    "model.prior_scale = 1\n",
    "elbos, gradsizes = train_LBFGS(model, dataloader, nepochs=1000, on_epoch=save_plots, \n",
    "    history_size=200, \n",
    "    max_iter=200)\n",
    "\n",
    "save_plots(model, 10000)\n",
    "plt.plot(gradsizes)\n",
    "plt.gca().set_yscale(\"log\")\n",
    "plt.title(\"gradient size\")\n",
    "plt.savefig(prefix + \"gradsizes.pdf\")\n",
    "plt.close()"
   ]
  },
  {
   "cell_type": "code",
   "execution_count": 3,
   "metadata": {},
   "outputs": [
    {
     "data": {
      "image/png": "[encoded data removed]",
      "text/plain": [
       "<Figure size 500x200 with 10 Axes>"
      ]
     },
     "metadata": {},
     "output_type": "display_data"
    }
   ],
   "source": [
    "plot_Ws(model)\n",
    "plt.suptitle(\"Learned generative fields\")\n",
    "plt.show()"
   ]
  },
  {
   "cell_type": "code",
   "execution_count": 4,
   "metadata": {},
   "outputs": [
    {
     "name": "stdout",
     "output_type": "stream",
     "text": [
      "Ground truth ELBO: -8.883783340454102\n"
     ]
    }
   ],
   "source": [
    "# Set ground-truth W and compute max ELBO\n",
    "with torch.no_grad():\n",
    "    model.W.copy_(torch.Tensor(dataset.gen.W))\n",
    "data = dataset.x.type(torch.get_default_dtype()).to(model.device)\n",
    "gt_elbo = optimize_latents(model, data, indexes=range(len(data)), init=False, max_iter=200)\n",
    "print(\"Ground truth ELBO: {}\".format(gt_elbo))\n",
    "np.savetxt(prefix + \"groundtruth-elbo.txt\", np.array([gt_elbo]), fmt=\"%f\", delimiter=\",\")"
   ]
  }
 ],
 "metadata": {
  "kernelspec": {
   "display_name": "Python 3 (ipykernel)",
   "language": "python",
   "name": "python3"
  },
  "language_info": {
   "codemirror_mode": {
    "name": "ipython",
    "version": 3
   },
   "file_extension": ".py",
   "mimetype": "text/x-python",
   "name": "python",
   "nbconvert_exporter": "python",
   "pygments_lexer": "ipython3",
   "version": "3.8.16"
  }
 },
 "nbformat": 4,
 "nbformat_minor": 4
}
